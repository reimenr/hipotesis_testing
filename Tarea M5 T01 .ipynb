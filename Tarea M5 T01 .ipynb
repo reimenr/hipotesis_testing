{
 "cells": [
  {
   "cell_type": "code",
   "execution_count": 1,
   "id": "a047ddb3",
   "metadata": {},
   "outputs": [],
   "source": [
    "import pandas as pd\n",
    "import matplotlib.pyplot as plt\n",
    "import seaborn as sns\n",
    "from scipy.stats import ttest_ind\n",
    "from scipy.stats import pearsonr"
   ]
  },
  {
   "cell_type": "markdown",
   "id": "dac641a0",
   "metadata": {},
   "source": [
    "### - Ejercicio 1"
   ]
  },
  {
   "cell_type": "markdown",
   "id": "337ef2eb",
   "metadata": {},
   "source": [
    "Descarga el dataset adjunto de datos oficiales de la UEFA y selecciona un atributo del conjunto de datos. Calcula el p-valor y di si rechaza la hipótesis nula cogiendo un alfa de 5%. "
   ]
  },
  {
   "cell_type": "code",
   "execution_count": 2,
   "id": "6a8d1dd6",
   "metadata": {},
   "outputs": [
    {
     "data": {
      "text/html": [
       "<div>\n",
       "<style scoped>\n",
       "    .dataframe tbody tr th:only-of-type {\n",
       "        vertical-align: middle;\n",
       "    }\n",
       "\n",
       "    .dataframe tbody tr th {\n",
       "        vertical-align: top;\n",
       "    }\n",
       "\n",
       "    .dataframe thead th {\n",
       "        text-align: right;\n",
       "    }\n",
       "</style>\n",
       "<table border=\"1\" class=\"dataframe\">\n",
       "  <thead>\n",
       "    <tr style=\"text-align: right;\">\n",
       "      <th></th>\n",
       "      <th>0</th>\n",
       "      <th>1</th>\n",
       "      <th>2</th>\n",
       "      <th>3</th>\n",
       "      <th>4</th>\n",
       "      <th>5</th>\n",
       "      <th>6</th>\n",
       "      <th>7</th>\n",
       "      <th>8</th>\n",
       "      <th>9</th>\n",
       "      <th>10</th>\n",
       "      <th>11</th>\n",
       "      <th>12</th>\n",
       "      <th>13</th>\n",
       "      <th>14</th>\n",
       "      <th>15</th>\n",
       "      <th>16</th>\n",
       "      <th>17</th>\n",
       "      <th>18</th>\n",
       "      <th>19</th>\n",
       "      <th>20</th>\n",
       "    </tr>\n",
       "  </thead>\n",
       "  <tbody>\n",
       "    <tr>\n",
       "      <th>0</th>\n",
       "      <td>Rk</td>\n",
       "      <td>Squad</td>\n",
       "      <td>Country</td>\n",
       "      <td>LgRk</td>\n",
       "      <td>MP</td>\n",
       "      <td>W</td>\n",
       "      <td>D</td>\n",
       "      <td>L</td>\n",
       "      <td>GF</td>\n",
       "      <td>GA</td>\n",
       "      <td>GD</td>\n",
       "      <td>Pts</td>\n",
       "      <td>Pts/G</td>\n",
       "      <td>xG</td>\n",
       "      <td>xGA</td>\n",
       "      <td>xGD</td>\n",
       "      <td>xGD/90</td>\n",
       "      <td>Last 5</td>\n",
       "      <td>Attendance</td>\n",
       "      <td>Top Team Scorer</td>\n",
       "      <td>Goalkeeper</td>\n",
       "    </tr>\n",
       "    <tr>\n",
       "      <th>1</th>\n",
       "      <td>1</td>\n",
       "      <td>Manchester City</td>\n",
       "      <td>ENG</td>\n",
       "      <td>1</td>\n",
       "      <td>37</td>\n",
       "      <td>28</td>\n",
       "      <td>6</td>\n",
       "      <td>3</td>\n",
       "      <td>96</td>\n",
       "      <td>24</td>\n",
       "      <td>72</td>\n",
       "      <td>90</td>\n",
       "      <td>2.43</td>\n",
       "      <td>86.1</td>\n",
       "      <td>26.8</td>\n",
       "      <td>59.3</td>\n",
       "      <td>1.6</td>\n",
       "      <td>W W W W D</td>\n",
       "      <td>52739</td>\n",
       "      <td>Kevin De Bruyne - 15</td>\n",
       "      <td>Ederson</td>\n",
       "    </tr>\n",
       "    <tr>\n",
       "      <th>2</th>\n",
       "      <td>2</td>\n",
       "      <td>Liverpool</td>\n",
       "      <td>ENG</td>\n",
       "      <td>2</td>\n",
       "      <td>36</td>\n",
       "      <td>26</td>\n",
       "      <td>8</td>\n",
       "      <td>2</td>\n",
       "      <td>89</td>\n",
       "      <td>24</td>\n",
       "      <td>65</td>\n",
       "      <td>86</td>\n",
       "      <td>2.39</td>\n",
       "      <td>84.6</td>\n",
       "      <td>33.1</td>\n",
       "      <td>51.4</td>\n",
       "      <td>1.43</td>\n",
       "      <td>W W W D W</td>\n",
       "      <td>53367</td>\n",
       "      <td>Mohamed Salah - 22</td>\n",
       "      <td>Alisson</td>\n",
       "    </tr>\n",
       "    <tr>\n",
       "      <th>3</th>\n",
       "      <td>3</td>\n",
       "      <td>Real Madrid</td>\n",
       "      <td>ESP</td>\n",
       "      <td>1</td>\n",
       "      <td>37</td>\n",
       "      <td>26</td>\n",
       "      <td>7</td>\n",
       "      <td>4</td>\n",
       "      <td>80</td>\n",
       "      <td>31</td>\n",
       "      <td>49</td>\n",
       "      <td>85</td>\n",
       "      <td>2.3</td>\n",
       "      <td>73</td>\n",
       "      <td>45.8</td>\n",
       "      <td>27.2</td>\n",
       "      <td>0.73</td>\n",
       "      <td>W W L W D</td>\n",
       "      <td>40624</td>\n",
       "      <td>Karim Benzema - 27</td>\n",
       "      <td>Thibaut Courtois</td>\n",
       "    </tr>\n",
       "    <tr>\n",
       "      <th>4</th>\n",
       "      <td>4</td>\n",
       "      <td>Bayern Munich</td>\n",
       "      <td>GER</td>\n",
       "      <td>1</td>\n",
       "      <td>34</td>\n",
       "      <td>24</td>\n",
       "      <td>5</td>\n",
       "      <td>5</td>\n",
       "      <td>97</td>\n",
       "      <td>37</td>\n",
       "      <td>60</td>\n",
       "      <td>77</td>\n",
       "      <td>2.26</td>\n",
       "      <td>88.1</td>\n",
       "      <td>37.1</td>\n",
       "      <td>51</td>\n",
       "      <td>1.5</td>\n",
       "      <td>W W L D D</td>\n",
       "      <td>33176</td>\n",
       "      <td>Robert Lewandowski - 35</td>\n",
       "      <td>Manuel Neuer</td>\n",
       "    </tr>\n",
       "    <tr>\n",
       "      <th>5</th>\n",
       "      <td>5</td>\n",
       "      <td>Paris S-G</td>\n",
       "      <td>FRA</td>\n",
       "      <td>1</td>\n",
       "      <td>37</td>\n",
       "      <td>25</td>\n",
       "      <td>8</td>\n",
       "      <td>4</td>\n",
       "      <td>85</td>\n",
       "      <td>36</td>\n",
       "      <td>49</td>\n",
       "      <td>83</td>\n",
       "      <td>2.24</td>\n",
       "      <td>71.6</td>\n",
       "      <td>38.1</td>\n",
       "      <td>33.4</td>\n",
       "      <td>0.9</td>\n",
       "      <td>W D D D W</td>\n",
       "      <td>41188</td>\n",
       "      <td>Kylian Mbappé - 25</td>\n",
       "      <td>Keylor Navas</td>\n",
       "    </tr>\n",
       "    <tr>\n",
       "      <th>6</th>\n",
       "      <td>6</td>\n",
       "      <td>Milan</td>\n",
       "      <td>ITA</td>\n",
       "      <td>1</td>\n",
       "      <td>37</td>\n",
       "      <td>25</td>\n",
       "      <td>8</td>\n",
       "      <td>4</td>\n",
       "      <td>66</td>\n",
       "      <td>31</td>\n",
       "      <td>35</td>\n",
       "      <td>83</td>\n",
       "      <td>2.24</td>\n",
       "      <td>60</td>\n",
       "      <td>34.4</td>\n",
       "      <td>25.6</td>\n",
       "      <td>0.69</td>\n",
       "      <td>W W W W W</td>\n",
       "      <td>42388</td>\n",
       "      <td>Rafael Leão - 11</td>\n",
       "      <td>Mike Maignan</td>\n",
       "    </tr>\n",
       "    <tr>\n",
       "      <th>7</th>\n",
       "      <td>7</td>\n",
       "      <td>Inter</td>\n",
       "      <td>ITA</td>\n",
       "      <td>2</td>\n",
       "      <td>37</td>\n",
       "      <td>24</td>\n",
       "      <td>9</td>\n",
       "      <td>4</td>\n",
       "      <td>81</td>\n",
       "      <td>32</td>\n",
       "      <td>49</td>\n",
       "      <td>81</td>\n",
       "      <td>2.19</td>\n",
       "      <td>78.1</td>\n",
       "      <td>38.2</td>\n",
       "      <td>39.9</td>\n",
       "      <td>1.08</td>\n",
       "      <td>W L W W W</td>\n",
       "      <td>41995</td>\n",
       "      <td>Lautaro Martínez - 21</td>\n",
       "      <td>Samir Handanovi?</td>\n",
       "    </tr>\n",
       "    <tr>\n",
       "      <th>8</th>\n",
       "      <td>8</td>\n",
       "      <td>Napoli</td>\n",
       "      <td>ITA</td>\n",
       "      <td>3</td>\n",
       "      <td>37</td>\n",
       "      <td>23</td>\n",
       "      <td>7</td>\n",
       "      <td>7</td>\n",
       "      <td>71</td>\n",
       "      <td>31</td>\n",
       "      <td>40</td>\n",
       "      <td>76</td>\n",
       "      <td>2.05</td>\n",
       "      <td>58.5</td>\n",
       "      <td>29.9</td>\n",
       "      <td>28.6</td>\n",
       "      <td>0.77</td>\n",
       "      <td>D L W W W</td>\n",
       "      <td>26681</td>\n",
       "      <td>Victor Osimhen - 14</td>\n",
       "      <td>David Ospina</td>\n",
       "    </tr>\n",
       "    <tr>\n",
       "      <th>9</th>\n",
       "      <td>9</td>\n",
       "      <td>Dortmund</td>\n",
       "      <td>GER</td>\n",
       "      <td>2</td>\n",
       "      <td>34</td>\n",
       "      <td>22</td>\n",
       "      <td>3</td>\n",
       "      <td>9</td>\n",
       "      <td>85</td>\n",
       "      <td>52</td>\n",
       "      <td>33</td>\n",
       "      <td>69</td>\n",
       "      <td>2.03</td>\n",
       "      <td>62.8</td>\n",
       "      <td>43.2</td>\n",
       "      <td>19.6</td>\n",
       "      <td>0.58</td>\n",
       "      <td>W L L W W</td>\n",
       "      <td>41800</td>\n",
       "      <td>Erling Haaland - 22</td>\n",
       "      <td>Gregor Kobel</td>\n",
       "    </tr>\n",
       "  </tbody>\n",
       "</table>\n",
       "</div>"
      ],
      "text/plain": [
       "   0                1        2     3   4   5  6  7   8   9   10   11     12  \\\n",
       "0  Rk            Squad  Country  LgRk  MP   W  D  L  GF  GA  GD  Pts  Pts/G   \n",
       "1   1  Manchester City      ENG     1  37  28  6  3  96  24  72   90   2.43   \n",
       "2   2        Liverpool      ENG     2  36  26  8  2  89  24  65   86   2.39   \n",
       "3   3      Real Madrid      ESP     1  37  26  7  4  80  31  49   85    2.3   \n",
       "4   4    Bayern Munich      GER     1  34  24  5  5  97  37  60   77   2.26   \n",
       "5   5        Paris S-G      FRA     1  37  25  8  4  85  36  49   83   2.24   \n",
       "6   6            Milan      ITA     1  37  25  8  4  66  31  35   83   2.24   \n",
       "7   7            Inter      ITA     2  37  24  9  4  81  32  49   81   2.19   \n",
       "8   8           Napoli      ITA     3  37  23  7  7  71  31  40   76   2.05   \n",
       "9   9         Dortmund      GER     2  34  22  3  9  85  52  33   69   2.03   \n",
       "\n",
       "     13    14    15      16         17          18                       19  \\\n",
       "0    xG   xGA   xGD  xGD/90     Last 5  Attendance          Top Team Scorer   \n",
       "1  86.1  26.8  59.3     1.6  W W W W D       52739     Kevin De Bruyne - 15   \n",
       "2  84.6  33.1  51.4    1.43  W W W D W       53367       Mohamed Salah - 22   \n",
       "3    73  45.8  27.2    0.73  W W L W D       40624       Karim Benzema - 27   \n",
       "4  88.1  37.1    51     1.5  W W L D D       33176  Robert Lewandowski - 35   \n",
       "5  71.6  38.1  33.4     0.9  W D D D W       41188       Kylian Mbappé - 25   \n",
       "6    60  34.4  25.6    0.69  W W W W W       42388         Rafael Leão - 11   \n",
       "7  78.1  38.2  39.9    1.08  W L W W W       41995    Lautaro Martínez - 21   \n",
       "8  58.5  29.9  28.6    0.77  D L W W W       26681      Victor Osimhen - 14   \n",
       "9  62.8  43.2  19.6    0.58  W L L W W       41800      Erling Haaland - 22   \n",
       "\n",
       "                 20  \n",
       "0        Goalkeeper  \n",
       "1           Ederson  \n",
       "2           Alisson  \n",
       "3  Thibaut Courtois  \n",
       "4      Manuel Neuer  \n",
       "5      Keylor Navas  \n",
       "6      Mike Maignan  \n",
       "7  Samir Handanovi?  \n",
       "8      David Ospina  \n",
       "9      Gregor Kobel  "
      ]
     },
     "execution_count": 2,
     "metadata": {},
     "output_type": "execute_result"
    }
   ],
   "source": [
    "df = pd.read_csv(r\"C:\\Users\\dpino\\Documents\\DATA SCIENCE\\Jupyter\\BOOTCAMP\\T5.1\\Lligues europees UEFA.csv\", sep=\";\", header=None, engine=\"python\", encoding=\"latin-1\")\n",
    "pd.set_option('display.max_columns', 500)\n",
    "df.head(10)"
   ]
  },
  {
   "cell_type": "code",
   "execution_count": 3,
   "id": "ec1dce09",
   "metadata": {},
   "outputs": [
    {
     "data": {
      "text/html": [
       "<div>\n",
       "<style scoped>\n",
       "    .dataframe tbody tr th:only-of-type {\n",
       "        vertical-align: middle;\n",
       "    }\n",
       "\n",
       "    .dataframe tbody tr th {\n",
       "        vertical-align: top;\n",
       "    }\n",
       "\n",
       "    .dataframe thead th {\n",
       "        text-align: right;\n",
       "    }\n",
       "</style>\n",
       "<table border=\"1\" class=\"dataframe\">\n",
       "  <thead>\n",
       "    <tr style=\"text-align: right;\">\n",
       "      <th></th>\n",
       "      <th>Rk</th>\n",
       "      <th>Squad</th>\n",
       "      <th>Country</th>\n",
       "      <th>LgRk</th>\n",
       "      <th>MP</th>\n",
       "      <th>W</th>\n",
       "      <th>D</th>\n",
       "      <th>L</th>\n",
       "      <th>GF</th>\n",
       "      <th>GA</th>\n",
       "      <th>GD</th>\n",
       "      <th>Pts</th>\n",
       "      <th>Pts/G</th>\n",
       "      <th>xG</th>\n",
       "      <th>xGA</th>\n",
       "      <th>xGD</th>\n",
       "      <th>xGD/90</th>\n",
       "      <th>Last 5</th>\n",
       "      <th>Attendance</th>\n",
       "      <th>Top Team Scorer</th>\n",
       "      <th>Goalkeeper</th>\n",
       "    </tr>\n",
       "  </thead>\n",
       "  <tbody>\n",
       "    <tr>\n",
       "      <th>0</th>\n",
       "      <td>Rk</td>\n",
       "      <td>Squad</td>\n",
       "      <td>Country</td>\n",
       "      <td>LgRk</td>\n",
       "      <td>MP</td>\n",
       "      <td>W</td>\n",
       "      <td>D</td>\n",
       "      <td>L</td>\n",
       "      <td>GF</td>\n",
       "      <td>GA</td>\n",
       "      <td>GD</td>\n",
       "      <td>Pts</td>\n",
       "      <td>Pts/G</td>\n",
       "      <td>xG</td>\n",
       "      <td>xGA</td>\n",
       "      <td>xGD</td>\n",
       "      <td>xGD/90</td>\n",
       "      <td>Last 5</td>\n",
       "      <td>Attendance</td>\n",
       "      <td>Top Team Scorer</td>\n",
       "      <td>Goalkeeper</td>\n",
       "    </tr>\n",
       "    <tr>\n",
       "      <th>1</th>\n",
       "      <td>1</td>\n",
       "      <td>Manchester City</td>\n",
       "      <td>ENG</td>\n",
       "      <td>1</td>\n",
       "      <td>37</td>\n",
       "      <td>28</td>\n",
       "      <td>6</td>\n",
       "      <td>3</td>\n",
       "      <td>96</td>\n",
       "      <td>24</td>\n",
       "      <td>72</td>\n",
       "      <td>90</td>\n",
       "      <td>2.43</td>\n",
       "      <td>86.1</td>\n",
       "      <td>26.8</td>\n",
       "      <td>59.3</td>\n",
       "      <td>1.6</td>\n",
       "      <td>W W W W D</td>\n",
       "      <td>52739</td>\n",
       "      <td>Kevin De Bruyne - 15</td>\n",
       "      <td>Ederson</td>\n",
       "    </tr>\n",
       "    <tr>\n",
       "      <th>2</th>\n",
       "      <td>2</td>\n",
       "      <td>Liverpool</td>\n",
       "      <td>ENG</td>\n",
       "      <td>2</td>\n",
       "      <td>36</td>\n",
       "      <td>26</td>\n",
       "      <td>8</td>\n",
       "      <td>2</td>\n",
       "      <td>89</td>\n",
       "      <td>24</td>\n",
       "      <td>65</td>\n",
       "      <td>86</td>\n",
       "      <td>2.39</td>\n",
       "      <td>84.6</td>\n",
       "      <td>33.1</td>\n",
       "      <td>51.4</td>\n",
       "      <td>1.43</td>\n",
       "      <td>W W W D W</td>\n",
       "      <td>53367</td>\n",
       "      <td>Mohamed Salah - 22</td>\n",
       "      <td>Alisson</td>\n",
       "    </tr>\n",
       "    <tr>\n",
       "      <th>3</th>\n",
       "      <td>3</td>\n",
       "      <td>Real Madrid</td>\n",
       "      <td>ESP</td>\n",
       "      <td>1</td>\n",
       "      <td>37</td>\n",
       "      <td>26</td>\n",
       "      <td>7</td>\n",
       "      <td>4</td>\n",
       "      <td>80</td>\n",
       "      <td>31</td>\n",
       "      <td>49</td>\n",
       "      <td>85</td>\n",
       "      <td>2.3</td>\n",
       "      <td>73</td>\n",
       "      <td>45.8</td>\n",
       "      <td>27.2</td>\n",
       "      <td>0.73</td>\n",
       "      <td>W W L W D</td>\n",
       "      <td>40624</td>\n",
       "      <td>Karim Benzema - 27</td>\n",
       "      <td>Thibaut Courtois</td>\n",
       "    </tr>\n",
       "    <tr>\n",
       "      <th>4</th>\n",
       "      <td>4</td>\n",
       "      <td>Bayern Munich</td>\n",
       "      <td>GER</td>\n",
       "      <td>1</td>\n",
       "      <td>34</td>\n",
       "      <td>24</td>\n",
       "      <td>5</td>\n",
       "      <td>5</td>\n",
       "      <td>97</td>\n",
       "      <td>37</td>\n",
       "      <td>60</td>\n",
       "      <td>77</td>\n",
       "      <td>2.26</td>\n",
       "      <td>88.1</td>\n",
       "      <td>37.1</td>\n",
       "      <td>51</td>\n",
       "      <td>1.5</td>\n",
       "      <td>W W L D D</td>\n",
       "      <td>33176</td>\n",
       "      <td>Robert Lewandowski - 35</td>\n",
       "      <td>Manuel Neuer</td>\n",
       "    </tr>\n",
       "    <tr>\n",
       "      <th>...</th>\n",
       "      <td>...</td>\n",
       "      <td>...</td>\n",
       "      <td>...</td>\n",
       "      <td>...</td>\n",
       "      <td>...</td>\n",
       "      <td>...</td>\n",
       "      <td>...</td>\n",
       "      <td>...</td>\n",
       "      <td>...</td>\n",
       "      <td>...</td>\n",
       "      <td>...</td>\n",
       "      <td>...</td>\n",
       "      <td>...</td>\n",
       "      <td>...</td>\n",
       "      <td>...</td>\n",
       "      <td>...</td>\n",
       "      <td>...</td>\n",
       "      <td>...</td>\n",
       "      <td>...</td>\n",
       "      <td>...</td>\n",
       "      <td>...</td>\n",
       "    </tr>\n",
       "    <tr>\n",
       "      <th>94</th>\n",
       "      <td>94</td>\n",
       "      <td>Bordeaux</td>\n",
       "      <td>FRA</td>\n",
       "      <td>20</td>\n",
       "      <td>37</td>\n",
       "      <td>5</td>\n",
       "      <td>13</td>\n",
       "      <td>19</td>\n",
       "      <td>48</td>\n",
       "      <td>89</td>\n",
       "      <td>-41</td>\n",
       "      <td>28</td>\n",
       "      <td>0.76</td>\n",
       "      <td>41.3</td>\n",
       "      <td>68.5</td>\n",
       "      <td>-27.2</td>\n",
       "      <td>-0.73</td>\n",
       "      <td>D L L L D</td>\n",
       "      <td>22083</td>\n",
       "      <td>Hwang Ui-jo - 11</td>\n",
       "      <td>Benoît Costil</td>\n",
       "    </tr>\n",
       "    <tr>\n",
       "      <th>95</th>\n",
       "      <td>95</td>\n",
       "      <td>Venezia</td>\n",
       "      <td>ITA</td>\n",
       "      <td>20</td>\n",
       "      <td>37</td>\n",
       "      <td>6</td>\n",
       "      <td>8</td>\n",
       "      <td>23</td>\n",
       "      <td>34</td>\n",
       "      <td>69</td>\n",
       "      <td>-35</td>\n",
       "      <td>26</td>\n",
       "      <td>0.7</td>\n",
       "      <td>35.4</td>\n",
       "      <td>70.5</td>\n",
       "      <td>-35.1</td>\n",
       "      <td>-0.95</td>\n",
       "      <td>L L L W D</td>\n",
       "      <td>6705</td>\n",
       "      <td>Thomas Henry - 9</td>\n",
       "      <td>Sergio Romero</td>\n",
       "    </tr>\n",
       "    <tr>\n",
       "      <th>96</th>\n",
       "      <td>96</td>\n",
       "      <td>Watford</td>\n",
       "      <td>ENG</td>\n",
       "      <td>19</td>\n",
       "      <td>37</td>\n",
       "      <td>6</td>\n",
       "      <td>5</td>\n",
       "      <td>26</td>\n",
       "      <td>33</td>\n",
       "      <td>75</td>\n",
       "      <td>-42</td>\n",
       "      <td>23</td>\n",
       "      <td>0.62</td>\n",
       "      <td>37.8</td>\n",
       "      <td>64.1</td>\n",
       "      <td>-26.3</td>\n",
       "      <td>-0.71</td>\n",
       "      <td>L L L D L</td>\n",
       "      <td>20614</td>\n",
       "      <td>Emmanuel Dennis - 10</td>\n",
       "      <td>Ben Foster</td>\n",
       "    </tr>\n",
       "    <tr>\n",
       "      <th>97</th>\n",
       "      <td>97</td>\n",
       "      <td>Norwich City</td>\n",
       "      <td>ENG</td>\n",
       "      <td>20</td>\n",
       "      <td>37</td>\n",
       "      <td>5</td>\n",
       "      <td>7</td>\n",
       "      <td>25</td>\n",
       "      <td>23</td>\n",
       "      <td>79</td>\n",
       "      <td>-56</td>\n",
       "      <td>22</td>\n",
       "      <td>0.59</td>\n",
       "      <td>33</td>\n",
       "      <td>73.3</td>\n",
       "      <td>-40.4</td>\n",
       "      <td>-1.09</td>\n",
       "      <td>L L L L D</td>\n",
       "      <td>26826</td>\n",
       "      <td>Teemu Pukki - 11</td>\n",
       "      <td>Tim Krul</td>\n",
       "    </tr>\n",
       "    <tr>\n",
       "      <th>98</th>\n",
       "      <td>98</td>\n",
       "      <td>Greuther Fürth</td>\n",
       "      <td>GER</td>\n",
       "      <td>18</td>\n",
       "      <td>34</td>\n",
       "      <td>3</td>\n",
       "      <td>9</td>\n",
       "      <td>22</td>\n",
       "      <td>28</td>\n",
       "      <td>82</td>\n",
       "      <td>-54</td>\n",
       "      <td>18</td>\n",
       "      <td>0.53</td>\n",
       "      <td>30.7</td>\n",
       "      <td>60.3</td>\n",
       "      <td>-29.6</td>\n",
       "      <td>-0.87</td>\n",
       "      <td>D L D L L</td>\n",
       "      <td>7672</td>\n",
       "      <td>Branimir Hrgota - 9</td>\n",
       "      <td>Sascha Burchert</td>\n",
       "    </tr>\n",
       "  </tbody>\n",
       "</table>\n",
       "<p>99 rows × 21 columns</p>\n",
       "</div>"
      ],
      "text/plain": [
       "0   Rk            Squad  Country  LgRk  MP   W   D   L  GF  GA   GD  Pts  \\\n",
       "0   Rk            Squad  Country  LgRk  MP   W   D   L  GF  GA   GD  Pts   \n",
       "1    1  Manchester City      ENG     1  37  28   6   3  96  24   72   90   \n",
       "2    2        Liverpool      ENG     2  36  26   8   2  89  24   65   86   \n",
       "3    3      Real Madrid      ESP     1  37  26   7   4  80  31   49   85   \n",
       "4    4    Bayern Munich      GER     1  34  24   5   5  97  37   60   77   \n",
       "..  ..              ...      ...   ...  ..  ..  ..  ..  ..  ..  ...  ...   \n",
       "94  94         Bordeaux      FRA    20  37   5  13  19  48  89  -41   28   \n",
       "95  95          Venezia      ITA    20  37   6   8  23  34  69  -35   26   \n",
       "96  96          Watford      ENG    19  37   6   5  26  33  75  -42   23   \n",
       "97  97     Norwich City      ENG    20  37   5   7  25  23  79  -56   22   \n",
       "98  98   Greuther Fürth      GER    18  34   3   9  22  28  82  -54   18   \n",
       "\n",
       "0   Pts/G    xG   xGA    xGD  xGD/90     Last 5  Attendance  \\\n",
       "0   Pts/G    xG   xGA    xGD  xGD/90     Last 5  Attendance   \n",
       "1    2.43  86.1  26.8   59.3     1.6  W W W W D       52739   \n",
       "2    2.39  84.6  33.1   51.4    1.43  W W W D W       53367   \n",
       "3     2.3    73  45.8   27.2    0.73  W W L W D       40624   \n",
       "4    2.26  88.1  37.1     51     1.5  W W L D D       33176   \n",
       "..    ...   ...   ...    ...     ...        ...         ...   \n",
       "94   0.76  41.3  68.5  -27.2   -0.73  D L L L D       22083   \n",
       "95    0.7  35.4  70.5  -35.1   -0.95  L L L W D        6705   \n",
       "96   0.62  37.8  64.1  -26.3   -0.71  L L L D L       20614   \n",
       "97   0.59    33  73.3  -40.4   -1.09  L L L L D       26826   \n",
       "98   0.53  30.7  60.3  -29.6   -0.87  D L D L L        7672   \n",
       "\n",
       "0           Top Team Scorer        Goalkeeper  \n",
       "0           Top Team Scorer        Goalkeeper  \n",
       "1      Kevin De Bruyne - 15           Ederson  \n",
       "2        Mohamed Salah - 22           Alisson  \n",
       "3        Karim Benzema - 27  Thibaut Courtois  \n",
       "4   Robert Lewandowski - 35      Manuel Neuer  \n",
       "..                      ...               ...  \n",
       "94         Hwang Ui-jo - 11     Benoît Costil  \n",
       "95         Thomas Henry - 9     Sergio Romero  \n",
       "96     Emmanuel Dennis - 10        Ben Foster  \n",
       "97         Teemu Pukki - 11          Tim Krul  \n",
       "98      Branimir Hrgota - 9   Sascha Burchert  \n",
       "\n",
       "[99 rows x 21 columns]"
      ]
     },
     "execution_count": 3,
     "metadata": {},
     "output_type": "execute_result"
    }
   ],
   "source": [
    "df.columns = df.iloc[0]\n",
    "df"
   ]
  },
  {
   "cell_type": "markdown",
   "id": "dfa1c1b7",
   "metadata": {},
   "source": [
    "Tenemos un Dataset con un conjunto de datos, donde se describe el rendimiento de los equipos de futbol en la liga UEFA. con atributos como, posicion del equipo en la tabla de posiciones(LgRk), Partidos jugados (MP),victorias que un equipo ha logrado (W), Empates (D), Derrotas (L), Goles a favor (GF), Goles en Contra (GA), Diferencia de goles (GD), Puntos (Pts), puntos por partido (Pts/G), Goles esperados (xG), Goles Esperados en Contra (xGA), Diferencia de Goles Esperada (xGD), Diferencia de Goles Esperada por 90 minutos (xGD/90), rendimiento del equipo en sus últimos cinco partidos (Last 5), Asistencia de espectadores (Attendance), el jugador que ha marcado más goles para el equipo (Top Team Scorer), portero titular o principal del equipo (Goalkeeper).\n",
    "\n",
    "Hipotesis Nula: No existe una diferencia significativa entre el promedio de puntos por partido (Pts/G), entre la liga inglesa y la liga española. \n",
    "\n",
    "Hipotesis Alternativa: Hay una diferencia significativa entre la media de puntos por partido (Pts/G), entre la liga ingles y la liga española. \n",
    "\n",
    "P. valor: ??\n",
    "\n",
    "Alfa: 5%. "
   ]
  },
  {
   "cell_type": "code",
   "execution_count": 4,
   "id": "e21b62c0",
   "metadata": {},
   "outputs": [
    {
     "data": {
      "text/plain": [
       "0\n",
       "Rk                 0\n",
       "Squad              0\n",
       "Country            0\n",
       "LgRk               0\n",
       "MP                 0\n",
       "W                  0\n",
       "D                  0\n",
       "L                  0\n",
       "GF                 0\n",
       "GA                 0\n",
       "GD                 0\n",
       "Pts                0\n",
       "Pts/G              0\n",
       "xG                 0\n",
       "xGA                0\n",
       "xGD                0\n",
       "xGD/90             0\n",
       "Last 5             0\n",
       "Attendance         0\n",
       "Top Team Scorer    0\n",
       "Goalkeeper         0\n",
       "dtype: int64"
      ]
     },
     "execution_count": 4,
     "metadata": {},
     "output_type": "execute_result"
    }
   ],
   "source": [
    "df.isnull().sum()"
   ]
  },
  {
   "cell_type": "code",
   "execution_count": 5,
   "id": "132a82bc",
   "metadata": {},
   "outputs": [
    {
     "name": "stdout",
     "output_type": "stream",
     "text": [
      "<class 'pandas.core.frame.DataFrame'>\n",
      "RangeIndex: 99 entries, 0 to 98\n",
      "Data columns (total 21 columns):\n",
      " #   Column           Non-Null Count  Dtype \n",
      "---  ------           --------------  ----- \n",
      " 0   Rk               99 non-null     object\n",
      " 1   Squad            99 non-null     object\n",
      " 2   Country          99 non-null     object\n",
      " 3   LgRk             99 non-null     object\n",
      " 4   MP               99 non-null     object\n",
      " 5   W                99 non-null     object\n",
      " 6   D                99 non-null     object\n",
      " 7   L                99 non-null     object\n",
      " 8   GF               99 non-null     object\n",
      " 9   GA               99 non-null     object\n",
      " 10  GD               99 non-null     object\n",
      " 11  Pts              99 non-null     object\n",
      " 12  Pts/G            99 non-null     object\n",
      " 13  xG               99 non-null     object\n",
      " 14  xGA              99 non-null     object\n",
      " 15  xGD              99 non-null     object\n",
      " 16  xGD/90           99 non-null     object\n",
      " 17  Last 5           99 non-null     object\n",
      " 18  Attendance       99 non-null     object\n",
      " 19  Top Team Scorer  99 non-null     object\n",
      " 20  Goalkeeper       99 non-null     object\n",
      "dtypes: object(21)\n",
      "memory usage: 16.4+ KB\n"
     ]
    }
   ],
   "source": [
    "df.info()"
   ]
  },
  {
   "cell_type": "code",
   "execution_count": 6,
   "id": "58ae8cae",
   "metadata": {},
   "outputs": [],
   "source": [
    "df['Pts/G'] = pd.to_numeric(df['Pts/G'], errors='coerce')"
   ]
  },
  {
   "cell_type": "markdown",
   "id": "ebdef6ab",
   "metadata": {},
   "source": [
    "convertimos tipos de datos de Object a Numerico para poder manipular los datos."
   ]
  },
  {
   "cell_type": "code",
   "execution_count": 7,
   "id": "020fb3e8",
   "metadata": {
    "scrolled": true
   },
   "outputs": [],
   "source": [
    "eng = df[df[\"Country\"] == \"ENG\"]\n",
    "esp = df[df[\"Country\"] == \"ESP\"]"
   ]
  },
  {
   "cell_type": "code",
   "execution_count": 8,
   "id": "f27b9e9e",
   "metadata": {},
   "outputs": [
    {
     "name": "stdout",
     "output_type": "stream",
     "text": [
      "La liga inglesa tuvo un promedio de puntos por partidos de 1.3815000000000002\n",
      "La liga española tuvo un promedio de puntos por partidos de 1.3524999999999998\n"
     ]
    }
   ],
   "source": [
    "print(\"La liga inglesa tuvo un promedio de puntos por partidos de\", eng[\"Pts/G\"].mean())\n",
    "print(\"La liga española tuvo un promedio de puntos por partidos de\", esp[\"Pts/G\"].mean())"
   ]
  },
  {
   "cell_type": "code",
   "execution_count": 9,
   "id": "7268ea5d",
   "metadata": {},
   "outputs": [
    {
     "name": "stdout",
     "output_type": "stream",
     "text": [
      "t_statistic 0.1989577011043349\n",
      "p_value 0.8433951242274633\n",
      "No rechazamos la Hipotecis Nula\n"
     ]
    }
   ],
   "source": [
    "t_statistic, p_value = ttest_ind(eng['Pts/G'], esp['Pts/G'], equal_var=False)\n",
    "print (\"t_statistic\", t_statistic)\n",
    "print (\"p_value\", p_value)\n",
    "if p_value > 0.05:\n",
    "    print('No rechazamos la Hipotecis Nula')\n",
    "else:\n",
    "    print('Rechazamos la Hipotesis Nula')"
   ]
  },
  {
   "cell_type": "markdown",
   "id": "6b7eb259",
   "metadata": {},
   "source": [
    "Debido a que el valor p es de 0.84 y se encuentra por encima del valor alfa 0.05, no rechazamos la hipotesis nula. lo que significa que, no existe una diferencia significativa entre el promedio de puntos por partido (Pts/G), entre la liga ingles y la liga española. la media de Pts/G para la liga inglesa fue de 1.38, mientras que la media de Pts/G para la liga española es de 1.35. en conclusion promedios similares. "
   ]
  },
  {
   "cell_type": "markdown",
   "id": "69fa1ec8",
   "metadata": {},
   "source": [
    "### - Ejercicio 2"
   ]
  },
  {
   "cell_type": "markdown",
   "id": "1695f79c",
   "metadata": {},
   "source": [
    "#### Atributo 1\n",
    "Atributo: Asistencia y Puntos\n",
    "\n",
    "\n",
    "Hipotesis Nula: No hay una relación significativa entre la cantidad de asistentes (Attendance) y la cantidad de puntos (Pts), en las ligas alemana e italiana.\n",
    "\n",
    "Hpotesis alternativa: hay una relación significativa entre la cantidad de asistentes (Attendance) y la cantidad de puntos (Pts), en las ligas alemana e italiana.\n",
    "\n",
    "P. valor: ??\n",
    "\n",
    "Alpha: 5%\n",
    "\n",
    "Metodo a usar: Coeficiente de correlación de Pearson\n"
   ]
  },
  {
   "cell_type": "code",
   "execution_count": 10,
   "id": "006d4cf1",
   "metadata": {},
   "outputs": [],
   "source": [
    "df[\"Attendance\"] = pd.to_numeric(df['Attendance'], errors='coerce') #cambiar object a numerico solo 1 columna \n",
    "df[['Attendance', 'Pts']] = df[['Attendance', 'Pts']].apply(pd.to_numeric, errors='coerce') #cambiar object a numerico en mas de una columna  "
   ]
  },
  {
   "cell_type": "code",
   "execution_count": 11,
   "id": "7da73d24",
   "metadata": {},
   "outputs": [
    {
     "name": "stdout",
     "output_type": "stream",
     "text": [
      "<class 'pandas.core.frame.DataFrame'>\n",
      "RangeIndex: 99 entries, 0 to 98\n",
      "Data columns (total 21 columns):\n",
      " #   Column           Non-Null Count  Dtype  \n",
      "---  ------           --------------  -----  \n",
      " 0   Rk               99 non-null     object \n",
      " 1   Squad            99 non-null     object \n",
      " 2   Country          99 non-null     object \n",
      " 3   LgRk             99 non-null     object \n",
      " 4   MP               99 non-null     object \n",
      " 5   W                99 non-null     object \n",
      " 6   D                99 non-null     object \n",
      " 7   L                99 non-null     object \n",
      " 8   GF               99 non-null     object \n",
      " 9   GA               99 non-null     object \n",
      " 10  GD               99 non-null     object \n",
      " 11  Pts              98 non-null     float64\n",
      " 12  Pts/G            98 non-null     float64\n",
      " 13  xG               99 non-null     object \n",
      " 14  xGA              99 non-null     object \n",
      " 15  xGD              99 non-null     object \n",
      " 16  xGD/90           99 non-null     object \n",
      " 17  Last 5           99 non-null     object \n",
      " 18  Attendance       98 non-null     float64\n",
      " 19  Top Team Scorer  99 non-null     object \n",
      " 20  Goalkeeper       99 non-null     object \n",
      "dtypes: float64(3), object(18)\n",
      "memory usage: 16.4+ KB\n"
     ]
    }
   ],
   "source": [
    "df.info()"
   ]
  },
  {
   "cell_type": "code",
   "execution_count": 12,
   "id": "406add51",
   "metadata": {},
   "outputs": [],
   "source": [
    "ger = df[df[\"Country\"] == \"GER\"]\n",
    "ita = df[df[\"Country\"] == \"ITA\"]"
   ]
  },
  {
   "cell_type": "code",
   "execution_count": 13,
   "id": "1be2169c",
   "metadata": {},
   "outputs": [
    {
     "name": "stdout",
     "output_type": "stream",
     "text": [
      "La liga alemana tuvo una asistencia de 378451.0\n",
      "La liga italina tuvo una asistencia de 341249.0\n"
     ]
    }
   ],
   "source": [
    "print(\"La liga alemana tuvo una asistencia de\", ger['Attendance'].sum())\n",
    "print(\"La liga italina tuvo una asistencia de\", ita['Attendance'].sum())"
   ]
  },
  {
   "cell_type": "code",
   "execution_count": 14,
   "id": "42c9bf5c",
   "metadata": {},
   "outputs": [
    {
     "name": "stdout",
     "output_type": "stream",
     "text": [
      "La liga alemana tuvo un total de puntos de 845.0\n",
      "La liga italina tuvo un total de puntos de 1009.0\n"
     ]
    }
   ],
   "source": [
    "print(\"La liga alemana tuvo un total de puntos de\", ger['Pts'].sum())\n",
    "print(\"La liga italina tuvo un total de puntos de\", ita['Pts'].sum())"
   ]
  },
  {
   "cell_type": "code",
   "execution_count": 15,
   "id": "9101f483",
   "metadata": {},
   "outputs": [
    {
     "name": "stdout",
     "output_type": "stream",
     "text": [
      "Correlación para la liga alemana: 0.5360159821541407\n",
      "P-valor para la liga alemana: 0.02185188581321732\n",
      "Rechazamos la Hipotesis Nula\n"
     ]
    }
   ],
   "source": [
    "corr_ale, p_value_ale = pearsonr(ger['Attendance'], ger['Pts'])\n",
    "print(f\"Correlación para la liga alemana: {corr_ale}\")\n",
    "print(f\"P-valor para la liga alemana: {p_value_ale}\")\n",
    "if p_value_ale > 0.05:\n",
    "    print('No rechazamos la Hipotecis Nula')\n",
    "else:\n",
    "    print('Rechazamos la Hipotesis Nula')"
   ]
  },
  {
   "cell_type": "markdown",
   "id": "c8fe44b1",
   "metadata": {},
   "source": [
    "Para la liga Alemana rechazamos la Hipotesis Nula,  No hay una relación significativa entre la cantidad de asistentes (Attendance) y la cantidad de puntos (Pts); debido a que si existe una relacion entre la cantidad de asistencia a los partidos y la cantidad de puntos obtenidos por el equipo. "
   ]
  },
  {
   "cell_type": "code",
   "execution_count": 16,
   "id": "89d75b63",
   "metadata": {},
   "outputs": [
    {
     "name": "stdout",
     "output_type": "stream",
     "text": [
      "\n",
      "Correlación para la liga italiana: 0.8018123086268638\n",
      "P-valor para la liga italiana: 2.1276016791645627e-05\n",
      "No rechazamos la Hipotecis Nula\n"
     ]
    }
   ],
   "source": [
    "corr_ita, p_ita = pearsonr(ita['Attendance'], ita['Pts'])\n",
    "print(f\"\\nCorrelación para la liga italiana: {corr_ita}\")\n",
    "print(f\"P-valor para la liga italiana: {p_ita}\")\n",
    "if p_value > 0.05:\n",
    "    print('No rechazamos la Hipotecis Nula')\n",
    "else:\n",
    "    print('Rechazamos la Hipotesis Nula')"
   ]
  },
  {
   "cell_type": "markdown",
   "id": "532d14ba",
   "metadata": {},
   "source": [
    "Para la liga italiana No rechazamos la Hipotesis Nula, No hay una relación significativa entre la cantidad de asistentes (Attendance) y la cantidad de puntos (Pts). por tanto podriamos decir que la cantidad de asitentes a los partidos no determina,la cantidad de puntos por partidos. \n",
    "\n",
    "En conclusion general: la cantidad de asistentes a la liga alemana fue de 378451 y un total de puntos de 845, mientras que la liga italiana tuvo una asistencia de 341249 menos a la alemana y 1009 puntos, mayor a la alemana. podemos ver que para algunas ligas si es importante la asistencia a los partidos, pero para otros es impotante el apoyo de sus fanaticos."
   ]
  },
  {
   "cell_type": "markdown",
   "id": "5520cc59",
   "metadata": {},
   "source": [
    "### - Ejercicio 3"
   ]
  },
  {
   "cell_type": "markdown",
   "id": "0ef83878",
   "metadata": {},
   "source": [
    "Atributo 1\n",
    "Atributo: Partidos jugados (MP) - victorias que un equipo ha logrado (W) - los Puntos (Pts)\n",
    "\n",
    "Hipotesis Nula: No hay una relación significativa entre el promedio de, los Partidos jugados (MP), las victorias que un equipo ha logrado (W) y los Puntos (Pts), en las ligas España, Alemania e Inglaterra. \n",
    "\n",
    "Hipotesis alternativa: hay una relación significativa entre el promedio de, los Partidos jugados (MP), las victorias que un equipo ha logrado (W) y los Puntos (Pts), en las ligas España, Alemania e Inglaterra.\n",
    "\n",
    "P. valor: ??\n",
    "\n",
    "Alpha: 5%\n",
    "\n",
    "Metodo a usar: Prueba de análisis de varianza (ANOVA)"
   ]
  },
  {
   "cell_type": "code",
   "execution_count": 23,
   "id": "62a02a5a",
   "metadata": {},
   "outputs": [],
   "source": [
    "esp = df[df[\"Country\"] == \"ESP\"]\n",
    "ger = df[df[\"Country\"] == \"GER\"]\n",
    "eng = df[df[\"Country\"] == \"ENG\"]"
   ]
  },
  {
   "cell_type": "code",
   "execution_count": 30,
   "id": "c5fcd25a",
   "metadata": {},
   "outputs": [
    {
     "name": "stdout",
     "output_type": "stream",
     "text": [
      "La liga española tuvo un promedio de partidos jugados de 1.8686868686868686e+38\n",
      "La liga alemana tuvo un promedio de partidos jugados de 1.9079685746352414e+34\n",
      "La liga inglesa tuvo un promedio de partidos jugados de 1.868181868186869e+38\n"
     ]
    }
   ],
   "source": [
    "print(\"La liga española tuvo un promedio de partidos jugados de\", esp[\"MP\"].mean())\n",
    "print(\"La liga alemana tuvo un promedio de partidos jugados de\", ger[\"MP\"].mean())\n",
    "print(\"La liga inglesa tuvo un promedio de partidos jugados de\", eng[\"MP\"].mean())"
   ]
  },
  {
   "cell_type": "code",
   "execution_count": 31,
   "id": "5f540e40",
   "metadata": {},
   "outputs": [
    {
     "name": "stdout",
     "output_type": "stream",
     "text": [
      "La liga española tuvo un promedio de victorias que el equipo ha logrado de 1.3106008595857572e+32\n",
      "La liga alemana tuvo un promedio de victorias que el equipo ha logrado de 1.345662064528563e+30\n",
      "La liga inglesa tuvo un promedio de victorias que el equipo ha logrado de 1.4131010605808075e+33\n"
     ]
    }
   ],
   "source": [
    "print(\"La liga española tuvo un promedio de victorias que el equipo ha logrado de\", esp[\"W\"].mean())\n",
    "print(\"La liga alemana tuvo un promedio de victorias que el equipo ha logrado de\", ger[\"W\"].mean())\n",
    "print(\"La liga inglesa tuvo un promedio de victorias que el equipo ha logrado de\", eng[\"W\"].mean())"
   ]
  },
  {
   "cell_type": "code",
   "execution_count": 34,
   "id": "132ab0ae",
   "metadata": {},
   "outputs": [
    {
     "name": "stdout",
     "output_type": "stream",
     "text": [
      "La liga española tuvo un promedio de puntos de 50.05\n",
      "La liga alemana tuvo un promedio de puntos de 46.94444444444444\n",
      "La liga inglesa tuvo un promedio de puntos de 50.45\n"
     ]
    }
   ],
   "source": [
    "print(\"La liga española tuvo un promedio de puntos de\", esp[\"Pts\"].mean())\n",
    "print(\"La liga alemana tuvo un promedio de puntos de\", ger[\"Pts\"].mean())\n",
    "print(\"La liga inglesa tuvo un promedio de puntos de\", eng[\"Pts\"].mean())"
   ]
  },
  {
   "cell_type": "markdown",
   "id": "64396d9b",
   "metadata": {},
   "source": [
    "Aplicacion del metodo para cada liga"
   ]
  },
  {
   "cell_type": "code",
   "execution_count": 17,
   "id": "515cc7d3",
   "metadata": {},
   "outputs": [
    {
     "name": "stdout",
     "output_type": "stream",
     "text": [
      "stat=80.260, p=0.000\n",
      "Se rechaza la hipótesis nula\n"
     ]
    }
   ],
   "source": [
    "from scipy.stats import f_oneway\n",
    "data1 = esp['MP']\n",
    "data2 = esp['W']\n",
    "data3 = esp['Pts']\n",
    "stat, p = f_oneway(data1, data2, data3)\n",
    "print('stat=%.3f, p=%.3f' % (stat, p))\n",
    "if p > 0.05:\n",
    " print('No se rechaza la hipótesis nula')\n",
    "else:\n",
    " print('Se rechaza la hipótesis nula')"
   ]
  },
  {
   "cell_type": "markdown",
   "id": "34546673",
   "metadata": {},
   "source": [
    "por tanto, la hipotesis  nula queda rechazada, puesto que hay una relación significativa entre el promedio de, los Partidos jugados (MP) (1.868), las victorias que un equipo ha logrado (W)(1.310 ) y los Puntos (Pts)(50.05), en las ligas España. "
   ]
  },
  {
   "cell_type": "code",
   "execution_count": 18,
   "id": "41a7078b",
   "metadata": {},
   "outputs": [
    {
     "name": "stdout",
     "output_type": "stream",
     "text": [
      "stat=63.700, p=0.000\n",
      "Se rechaza la hipótesis nula\n"
     ]
    }
   ],
   "source": [
    "from scipy.stats import f_oneway\n",
    "data1 = ger['MP']\n",
    "data2 = ger['W']\n",
    "data3 = ger['Pts']\n",
    "stat, p = f_oneway(data1, data2, data3)\n",
    "print('stat=%.3f, p=%.3f' % (stat, p))\n",
    "if p > 0.05:\n",
    " print('No se rechaza la hipótesis nula')\n",
    "else:\n",
    " print('Se rechaza la hipótesis nula')"
   ]
  },
  {
   "cell_type": "markdown",
   "id": "e9a79cb6",
   "metadata": {},
   "source": [
    "por tanto, la hipotesis  nula queda rechazada, puesto que hay una relación significativa entre el promedio de, los Partidos jugados (MP) (1.90), las victorias que un equipo ha logrado (W)(1.34) y los Puntos (Pts)(46.9), en las ligas Alemana. "
   ]
  },
  {
   "cell_type": "code",
   "execution_count": 35,
   "id": "6c23ca7e",
   "metadata": {},
   "outputs": [
    {
     "name": "stdout",
     "output_type": "stream",
     "text": [
      "stat=53.764, p=0.000\n",
      "Se rechaza la hipótesis nula\n"
     ]
    }
   ],
   "source": [
    "from scipy.stats import f_oneway\n",
    "data1 = eng['MP']\n",
    "data2 = eng['W']\n",
    "data3 = eng['Pts']\n",
    "stat, p = f_oneway(data1, data2, data3)\n",
    "print('stat=%.3f, p=%.3f' % (stat, p))\n",
    "if p > 0.05:\n",
    " print('No se rechaza la hipótesis nula')\n",
    "else:\n",
    " print('Se rechaza la hipótesis nula')"
   ]
  },
  {
   "cell_type": "markdown",
   "id": "3d3be786",
   "metadata": {},
   "source": [
    "por tanto, la hipotesis  nula queda rechazada, puesto que hay una relación significativa entre el promedio de, los Partidos jugados (MP) (1.868), las victorias que un equipo ha logrado (W)(1.41) y los Puntos (Pts)(50.45), en las ligas Inglesa. \n",
    "\n",
    "conclusion general: las medias de los tres atributos no tienen relacion significativa entre si, en niguna de las tres muestras de ligas.  "
   ]
  },
  {
   "cell_type": "code",
   "execution_count": null,
   "id": "3e75a28a",
   "metadata": {},
   "outputs": [],
   "source": []
  }
 ],
 "metadata": {
  "kernelspec": {
   "display_name": "Python 3 (ipykernel)",
   "language": "python",
   "name": "python3"
  },
  "language_info": {
   "codemirror_mode": {
    "name": "ipython",
    "version": 3
   },
   "file_extension": ".py",
   "mimetype": "text/x-python",
   "name": "python",
   "nbconvert_exporter": "python",
   "pygments_lexer": "ipython3",
   "version": "3.10.9"
  }
 },
 "nbformat": 4,
 "nbformat_minor": 5
}
